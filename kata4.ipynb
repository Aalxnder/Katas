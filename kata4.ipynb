{
 "cells": [
  {
   "cell_type": "markdown",
   "metadata": {},
   "source": [
    "# Ejercicio 1: Transformar cadenas\n",
    "Hay varias operaciones que puedes realizar en las cadenas cuando las manipulamos. En este ejercicio, usarás métodos de cadena para modificar el texto con hechos sobre la Luna y luego extraerás información para crear un breve resumen."
   ]
  },
  {
   "cell_type": "code",
   "execution_count": 17,
   "metadata": {},
   "outputs": [],
   "source": [
    "text = \"\"\"Interesting facts about the Moon. The Moon is Earth's only satellite. There are several \n",
    "interesting facts about the Moon and how it affects life here on Earth. \n",
    "On average, the Moon moves 4cm away from the Earth every year. This yearly drift is not significant enough \n",
    "to cause immediate effects on Earth. The hig C \"\"\"\n",
    "\n",
    "partes=text.split()\n",
    "partes\n",
    "\n",
    "palabras_clave={\"average\",\"temperature\",\"distance\",\"C\"}\n",
    "#for palabras in partes:\n",
    "#    for clave in palabras_clave:\n",
    "#       if clave in palabras:\n",
    "#            print(palabras)"
   ]
  },
  {
   "cell_type": "code",
   "execution_count": 19,
   "metadata": {},
   "outputs": [
    {
     "name": "stdout",
     "output_type": "stream",
     "text": [
      "average,\n",
      "Celsius\n"
     ]
    }
   ],
   "source": [
    "for palabras in partes:\n",
    "    for clave in palabras_clave:\n",
    "        if clave in palabras:\n",
    "            print(palabras.replace(\"C\",\"Celsius\"))\n",
    "#print(palabras_clave);"
   ]
  },
  {
   "cell_type": "markdown",
   "metadata": {},
   "source": [
    "# Ejercicio 2: Formateando Cadenas\n",
    "Saber cómo dar formato a las cadenas es esencial cuando se presenta información de un programa. Hay algunas maneras diferentes de lograr esto en Python. En este ejercicio, se utilizan variables que contienen datos clave sobre la gravedad en varias lunas y luego se utilizan para dar formato e imprimir la información."
   ]
  },
  {
   "cell_type": "code",
   "execution_count": null,
   "metadata": {},
   "outputs": [],
   "source": [
    "pip install tabulate\n"
   ]
  },
  {
   "cell_type": "markdown",
   "metadata": {},
   "source": [
    "# metodo de union de cadena\n"
   ]
  },
  {
   "cell_type": "code",
   "execution_count": 25,
   "metadata": {},
   "outputs": [
    {
     "name": "stdout",
     "output_type": "stream",
     "text": [
      "-------------------------------------------------------------------------------- \n",
      "Nombre del planeta: marte \n",
      "Gravedad en ganimides: 14.3 m/s2\n",
      "\n"
     ]
    }
   ],
   "source": [
    "planeta = \"marte\";\n",
    "gravedad = 0.0143;\n",
    "luna = \"genimides\";\n",
    "\n",
    "titulo = f\"Datos de gravedad sobre {nombre}\"\n",
    "\n",
    "plantilla = f\"\"\"{'-'*80} \n",
    "Nombre del planeta: {planeta} \n",
    "Gravedad en {nombre}: {gravedad * 1000} m/s2\n",
    "\"\"\";\n",
    "\n",
    "union = f\"\"\"{titulo.title()} {plantilla}\"\"\";\n",
    "\n",
    "print(plantilla);"
   ]
  },
  {
   "cell_type": "markdown",
   "metadata": {},
   "source": [
    "# metodo de tablas usando tabulate"
   ]
  },
  {
   "cell_type": "code",
   "execution_count": 34,
   "metadata": {},
   "outputs": [
    {
     "name": "stdout",
     "output_type": "stream",
     "text": [
      "---------------------------------\n",
      "Datos de gravedad sobre ganimides\n",
      "nombre de planeta: marte\n",
      "gravedad: 14.3 m/s2\n",
      "luna: genimides\n",
      "---------------------------------\n"
     ]
    }
   ],
   "source": [
    "from tabulate import tabulate\n",
    "gravedad = 0.0143;\n",
    "gravedad_multi=gravedad * 1000;\n",
    "datos = [[f\"{titulo}\"],[f\"nombre de planeta: {planeta} \"],[f\"gravedad: {gravedad_multi} m/s2\"],[f\"luna: {luna}\"]];\n",
    "\n",
    "print(tabulate(datos));"
   ]
  }
 ],
 "metadata": {
  "interpreter": {
   "hash": "59f8fe193a7bda3c9c4498006cca788d8d5a648fecb716327465ad87e581a474"
  },
  "kernelspec": {
   "display_name": "Python 3.10.0 64-bit",
   "language": "python",
   "name": "python3"
  },
  "language_info": {
   "codemirror_mode": {
    "name": "ipython",
    "version": 3
   },
   "file_extension": ".py",
   "mimetype": "text/x-python",
   "name": "python",
   "nbconvert_exporter": "python",
   "pygments_lexer": "ipython3",
   "version": "3.10.0"
  },
  "orig_nbformat": 4
 },
 "nbformat": 4,
 "nbformat_minor": 2
}
