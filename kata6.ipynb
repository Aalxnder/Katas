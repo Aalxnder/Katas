{
 "cells": [
  {
   "cell_type": "markdown",
   "metadata": {},
   "source": [
    "# Ejercicio1: Crear y usar listas de Python\n",
    "Ejercicio: Usar listas para almacenar nombres de planetas\n",
    "En primer lugar, crea una variable denominada planets. Agrega los ocho planetas (sin Plutón) a la lista. A continuación, muestra el número de planeta\n"
   ]
  },
  {
   "cell_type": "code",
   "execution_count": 1,
   "metadata": {},
   "outputs": [
    {
     "name": "stdout",
     "output_type": "stream",
     "text": [
      "['Mercurio', 'Venus', 'Tierr', 'Marte', 'Jupiter', 'Saturno', 'Urano', 'Neptuno']\n"
     ]
    }
   ],
   "source": [
    "planetas=[\"Mercurio\", \"Venus\", \"Tierra\", \"Marte\", \"Jupiter\", \"Saturno\", \"Urano\", \"Neptuno\"];\n",
    "print(planetas);"
   ]
  },
  {
   "cell_type": "markdown",
   "metadata": {},
   "source": [
    "Agrega a Plutón a la lista que creaste. Luego muestra tanto el número de planetas como el último planeta de la lista"
   ]
  },
  {
   "cell_type": "code",
   "execution_count": 4,
   "metadata": {},
   "outputs": [
    {
     "name": "stdout",
     "output_type": "stream",
     "text": [
      "['Mercurio', 'Venus', 'Tierra', 'Marte', 'Jupiter', 'Saturno', 'Urano', 'Neptuno']\n",
      "Planetas mas pluton:  ['Mercurio', 'Venus', 'Tierra', 'Marte', 'Jupiter', 'Saturno', 'Urano', 'Neptuno', 'pluton']\n",
      "Ultimo planeta:  pluton\n",
      "Numero de planetas:  9\n"
     ]
    }
   ],
   "source": [
    "planetas=[\"Mercurio\", \"Venus\", \"Tierra\", \"Marte\", \"Jupiter\", \"Saturno\", \"Urano\", \"Neptuno\"];\n",
    "print(planetas);\n",
    "\n",
    "planetas.append(\"pluton\");\n",
    "\n",
    "print(\"Planetas mas pluton: \",planetas);\n",
    "print(\"Ultimo planeta: \",planetas[8]);\n",
    "numero_de_planetas=len(planetas);\n",
    "print(\"Numero de planetas: \",numero_de_planetas);"
   ]
  },
  {
   "cell_type": "markdown",
   "metadata": {},
   "source": [
    "# Ejercicio 2: Trabajando con datos de una lista\n",
    "Usar slices para recuperar partes de una lista\n"
   ]
  },
  {
   "cell_type": "code",
   "execution_count": 10,
   "metadata": {},
   "outputs": [
    {
     "name": "stdout",
     "output_type": "stream",
     "text": [
      "Su planeta es el planeta numero 3 Del sistema solar\n",
      "Planeta anterior:  venus  Planeta superior:  marte\n"
     ]
    }
   ],
   "source": [
    "planetas=[\"mercurio\",\"venus\",\"tierra\",\"marte\",\"jupiter\",\"saturno\",\"urano\",\"Neptuno\"];\n",
    "planetaUser=input(\"Ingresa el nombre de un planeta\");\n",
    "planetUserLower=planetaUser.lower()\n",
    "busqueda=planetas.index(planetUserLower);\n",
    "print(\"Su planeta es el planeta numero \"+str(busqueda+1),\"Del sistema solar\");\n",
    "print(\"Planeta anterior: \",planetas[busqueda-1],\" Planeta superior: \",planetas[busqueda+1]);\n"
   ]
  }
 ],
 "metadata": {
  "interpreter": {
   "hash": "59f8fe193a7bda3c9c4498006cca788d8d5a648fecb716327465ad87e581a474"
  },
  "kernelspec": {
   "display_name": "Python 3.10.0 64-bit",
   "language": "python",
   "name": "python3"
  },
  "language_info": {
   "codemirror_mode": {
    "name": "ipython",
    "version": 3
   },
   "file_extension": ".py",
   "mimetype": "text/x-python",
   "name": "python",
   "nbconvert_exporter": "python",
   "pygments_lexer": "ipython3",
   "version": "3.10.0"
  },
  "orig_nbformat": 4
 },
 "nbformat": 4,
 "nbformat_minor": 2
}
