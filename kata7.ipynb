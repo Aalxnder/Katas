{
 "cells": [
  {
   "cell_type": "markdown",
   "metadata": {},
   "source": [
    "# Ejercicio 1: Creación de un bucle \"while\"\n",
    "En Python, los ciclos while te permiten ejecutar código un número desconocido de veces. Los ciclos examinan una condición booleana y, siempre que la condición sea verdadera, se ejecutará el código dentro del ciclo. Esto es muy útil para situaciones como solicitar valores a un usuario.\n",
    "\n",
    "En este ejercicio, estás creando una aplicación que solicita a un usuario que ingrese una lista de planetas. En un ejercicio posterior, agregarás código que muestre la lista. Por ahora, crearás solo el código que solicita al usuario la lista de planetas."
   ]
  },
  {
   "cell_type": "code",
   "execution_count": 41,
   "metadata": {},
   "outputs": [
    {
     "name": "stdout",
     "output_type": "stream",
     "text": [
      "Ingresa nombres de planetas para agregarlos a una lista, ingresa la palabra 'done' para finalizar el programa.\n"
     ]
    }
   ],
   "source": [
    "from tabulate import tabulate\n",
    "\n",
    "planeta = [];\n",
    "\n",
    "print(\"Ingresa nombres de planetas para agregarlos a una lista, ingresa la palabra 'done' para finalizar el programa.\");\n",
    "\n",
    "nuevo_planeta = input(\"Introduce el nombre de un planeta:\");\n",
    "nplanet=nuevo_planeta.lower();\n",
    "\n",
    "planeta.append(nplanet);\n",
    "while(nplanet != 'done'):\n",
    "    nuevo_planeta = input(\"Introduce el nombre de un planeta:\");\n",
    "    nplanet=nuevo_planeta.lower();\n",
    "    planeta.append(nuevo_planeta);\n",
    "#print(tabulate(planeta));\n",
    "\n",
    "\n"
   ]
  },
  {
   "cell_type": "markdown",
   "metadata": {},
   "source": [
    "# Ejercicio 2: Creación de un ciclo \"for\"\n",
    "En el ejercicio anterior, creaste código para solicitar a los usuarios que introduzcan una lista de nombres de planetas. En este ejercicio, completarás la aplicación escribiendo código que muestre los nombres de esos planetas.\n",
    "\n",
    "Mostrar la lista de los planetas\n",
    "La variable planets almacena los nombres de planeta que ha introducido un usuario. Ahora usarás un ciclo para mostrar esas entradas."
   ]
  },
  {
   "cell_type": "code",
   "execution_count": 42,
   "metadata": {},
   "outputs": [
    {
     "name": "stdout",
     "output_type": "stream",
     "text": [
      "mercurio\n",
      "venus\n",
      "tierrs\n",
      "DOne\n"
     ]
    }
   ],
   "source": [
    "for i in planeta:\n",
    "    print(i);"
   ]
  }
 ],
 "metadata": {
  "language_info": {
   "name": "python"
  },
  "orig_nbformat": 4
 },
 "nbformat": 4,
 "nbformat_minor": 2
}
