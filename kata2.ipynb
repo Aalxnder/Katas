{
 "cells": [
  {
   "cell_type": "markdown",
   "metadata": {},
   "source": [
    "# Ejercicio - Escribir declaraciones if, else, y elif\n",
    "Para este ejercicio, escribirás una lógica condicional que imprima una advertencia si un asteroide se acerca a la Tierra demasiado rápido. La velocidad del asteroide varía dependiendo de lo cerca que esté del sol, y cualquier velocidad superior a 25 kilómetros por segundo (km/s) merece una advertencia.\n",
    "\n",
    "Un asteroide se acerca, y viaja a una velocidad de 49 km/s."
   ]
  },
  {
   "cell_type": "code",
   "execution_count": 1,
   "metadata": {},
   "outputs": [
    {
     "name": "stdout",
     "output_type": "stream",
     "text": [
      "Advertencia, el asteroide se dirige hacia la tierra\n"
     ]
    }
   ],
   "source": [
    "asteroide = 49;\n",
    "if (asteroide >= 25):\n",
    "    print(\"Advertencia, el asteroide se dirige hacia la tierra\");\n",
    "else:\n",
    "    print(\"No hay nada de que preocuparse\");"
   ]
  },
  {
   "cell_type": "markdown",
   "metadata": {},
   "source": [
    "# ejercicio 2\n",
    "Si un asteroide entra en la atmósfera de la Tierra a una velocidad mayor o igual a 20 km/s, a veces produce un rayo de luz que se puede ver desde la Tierra. Escribe la lógica condicional que usa declaraciones if, else, y elif para alertar a las personas de todo el mundo que deben buscar un asteroide en el cielo. ¡Hay uno que se dirige a la tierra ahora a una velocidad de 19 km/s!"
   ]
  },
  {
   "cell_type": "code",
   "execution_count": 19,
   "metadata": {},
   "outputs": [
    {
     "name": "stdout",
     "output_type": "stream",
     "text": [
      "Un asteroide se dirige hacia a ti pero no se ve ninguna luz\n"
     ]
    }
   ],
   "source": [
    "asteroide = 19;\n",
    "if(asteroide > 20):\n",
    "    print(\"si miras para arriba podras ver la luz de un asteoride\");\n",
    "elif(asteroide==20):\n",
    "    print(\"por poco y no se alcanza a ver la luz\");\n",
    "else:\n",
    "    print(\"Un asteroide se dirige hacia a ti pero no se ve ninguna luz\");"
   ]
  },
  {
   "cell_type": "markdown",
   "metadata": {},
   "source": [
    "# Ejercicio: Uso de operadores and y or\n",
    "*Los asteroides de menos de 25 metros en su dimensión más grande probablemente se quemarán a medida que entren en la atmósfera de la Tierra.\n",
    "\n",
    "Si una pieza de un asteroide que es más grande que 25 metros pero más pequeña que 1000 metros golpeara la Tierra, causaría mucho daño.\n",
    "También discutimos en el ejercicio anterior que:\n",
    "\n",
    "La velocidad del asteroide varía en función de lo cerca que esté del sol, y cualquier velocidad superior a 25 kilómetros por segundo (km/s) merece una advertencia.\n",
    "Si un asteroide entra en la atmósfera de la Tierra a una velocidad mayor o igual a 20 km/s, a veces produce un rayo de luz que se puede ver desde la Tierra.\n",
    "Usando toda esta información, escribe un programa que emita la advertencia o información correcta a la gente de la Tierra, según la velocidad y el tamaño de un asteroide. Utiliza instrucciones if, else, y elif, así como los operadores and y or."
   ]
  },
  {
   "cell_type": "code",
   "execution_count": 1,
   "metadata": {},
   "outputs": [
    {
     "name": "stdout",
     "output_type": "stream",
     "text": [
      "Look up! ¡Hay una luz mágica en el cielo!\n"
     ]
    }
   ],
   "source": [
    "velocidad_asteroide = 25\n",
    "tamano_asteroide = 40\n",
    "if velocidad_asteroide > 25 and tamano_asteroide > 25:\n",
    "    print('¡Alerta, Un asteroide muy peligroso viene hacia la Tierra!')\n",
    "elif velocidad_asteroide >= 20:\n",
    "    print('Look up! ¡Hay una luz mágica en el cielo!')\n",
    "elif tamano_asteroide < 25:\n",
    "    print('Nada que ver aquí :)')\n",
    "else:\n",
    "    print('Nada que ver aquí :)')"
   ]
  },
  {
   "cell_type": "code",
   "execution_count": 7,
   "metadata": {},
   "outputs": [
    {
     "name": "stdout",
     "output_type": "stream",
     "text": [
      "Que dios te acompañe\n"
     ]
    }
   ],
   "source": [
    "asteroide =100;\n",
    "asteroide_tam=3000;\n",
    "if (asteroide < 20 and asteroide_tam <25 ):\n",
    "    print(\"El asteoride no emite ninguna luz y no representa ningun peligro\");\n",
    "elif(asteroide <20 and asteroide_tam>=25 and asteroide_tam<1000):\n",
    "    print(\"El asteoride no emite luces brillantes pero por su tamaño podria ser una amenaza\");\n",
    "elif(asteroide >=20 and asteroide <25 and asteroide_tam>=25 and asteroide_tam<1000):\n",
    "    print(\"El asteoide emitira una luz y podria golpear la tierra y causar mucho daño\");\n",
    "elif(asteroide >=25  and asteroide_tam >= 25 and asteroide_tam<1000):\n",
    "    print(\"esta es una situacion de emergencia, por favor resguardece donde pueda\");\n",
    "elif(asteroide >= 25 and asteroide_tam >= 1000):\n",
    "    print(\"Que dios te acompañe\");"
   ]
  }
 ],
 "metadata": {
  "interpreter": {
   "hash": "59f8fe193a7bda3c9c4498006cca788d8d5a648fecb716327465ad87e581a474"
  },
  "kernelspec": {
   "display_name": "Python 3.10.0 64-bit",
   "language": "python",
   "name": "python3"
  },
  "language_info": {
   "codemirror_mode": {
    "name": "ipython",
    "version": 3
   },
   "file_extension": ".py",
   "mimetype": "text/x-python",
   "name": "python",
   "nbconvert_exporter": "python",
   "pygments_lexer": "ipython3",
   "version": "3.10.0"
  },
  "orig_nbformat": 4
 },
 "nbformat": 4,
 "nbformat_minor": 2
}
