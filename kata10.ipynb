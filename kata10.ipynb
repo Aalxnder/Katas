{
 "cells": [
  {
   "cell_type": "markdown",
   "metadata": {},
   "source": [
    "# manejo de errores y excepciones\n"
   ]
  },
  {
   "cell_type": "code",
   "execution_count": 5,
   "metadata": {},
   "outputs": [
    {
     "name": "stdout",
     "output_type": "stream",
     "text": [
      "no se ha podido encontrar el archivo\n"
     ]
    }
   ],
   "source": [
    "try:\n",
    "    open(\"config.txt\");\n",
    "except FileNotFoundError:\n",
    "    print(\"no se ha podido encontrar el archivo\")"
   ]
  },
  {
   "cell_type": "markdown",
   "metadata": {},
   "source": [
    "Aunque es común un archivo que no existe, no es el único error que podemos encontrar. Los permisos de archivo no válidos pueden impedir la lectura de un archivo, incluso si este existe. Vamos a crear un archivo de Python denominado config.py. El archivo tiene código que busca y lee el archivo de configuración del sistema de navegación:"
   ]
  },
  {
   "cell_type": "code",
   "execution_count": 20,
   "metadata": {},
   "outputs": [
    {
     "name": "stdout",
     "output_type": "stream",
     "text": [
      "Se encontro el directorio pero no se pudo abrir porque no tiene los permisos necesarios\n"
     ]
    }
   ],
   "source": [
    "\n",
    "def main():\n",
    "    try:\n",
    "        archivo=open(\"config.txt\");\n",
    "    except FileNotFoundError:\n",
    "        print(\"No se pudo encontrar el archivo solicitado\");\n",
    "    except PermissionError:\n",
    "        print(\"Se encontro el directorio pero no se pudo abrir porque no tiene los permisos necesarios\");\n",
    "__name__='main';\n",
    "if(__name__=='main'):\n",
    "    main();"
   ]
  },
  {
   "cell_type": "markdown",
   "metadata": {},
   "source": [
    "Si necesitas acceder al error asociado a la excepción, debes actualizar la línea except para incluir la palabra clave as. Esta técnica es práctica si una excepción es demasiado genérica y el mensaje de error puede ser útil:"
   ]
  },
  {
   "cell_type": "code",
   "execution_count": 21,
   "metadata": {},
   "outputs": [
    {
     "name": "stdout",
     "output_type": "stream",
     "text": [
      "tuvimos un problema al acceder a  [Errno 2] No such file or directory: 'archivo.py'\n"
     ]
    }
   ],
   "source": [
    "try:\n",
    "    open(\"archivo.py\");\n",
    "except FileNotFoundError as err:\n",
    "    print(\"tuvimos un problema al acceder a \", err);\n"
   ]
  },
  {
   "cell_type": "markdown",
   "metadata": {},
   "source": [
    "En este caso, as err significa que err se convierte en una variable con el objeto de excepción como valor. Después, usa este valor para imprimir el mensaje de error asociado a la excepción. Otra razón para usar esta técnica es acceder directamente a los atributos del error. Por ejemplo, si detecta una excepción OSError más genérica, que es la excepción primaria de FilenotFoundError y PermissionError, podemos diferenciarlas mediante el atributo .errno:"
   ]
  },
  {
   "cell_type": "markdown",
   "metadata": {},
   "source": [
    "en este caso, as err significa que err se convierte en una variable con el objeto de excepción como valor. Después, usa este valor para imprimir el mensaje de error asociado a la excepción. Otra razón para usar esta técnica es acceder directamente a los atributos del error. Por ejemplo, si detecta una excepción OSError más genérica, que es la excepción primaria de FilenotFoundError y PermissionError, podemos diferenciarlas mediante el atributo .errno:"
   ]
  },
  {
   "cell_type": "code",
   "execution_count": 22,
   "metadata": {},
   "outputs": [
    {
     "name": "stdout",
     "output_type": "stream",
     "text": [
      "no se pudo encontrar el directorio\n"
     ]
    }
   ],
   "source": [
    "try:\n",
    "    open(\"config.cpp\");\n",
    "except OSError as err:\n",
    "    if (err.errno == 2):\n",
    "        print(\"no se pudo encontrar el directorio\");\n",
    "    if(err.errno == 13):\n",
    "        print(\"se encontro el directorio pero no se pudo abrir\");"
   ]
  },
  {
   "cell_type": "markdown",
   "metadata": {},
   "source": [
    "# Generación de excepciones"
   ]
  },
  {
   "cell_type": "code",
   "execution_count": 26,
   "metadata": {},
   "outputs": [
    {
     "ename": "NameError",
     "evalue": "name 'alerta_a_la_tripulacion' is not defined",
     "output_type": "error",
     "traceback": [
      "\u001b[1;31m---------------------------------------------------------------------------\u001b[0m",
      "\u001b[1;31mRuntimeError\u001b[0m                              Traceback (most recent call last)",
      "\u001b[1;32mc:\\Users\\Alx33\\OneDrive\\Escritorio\\jupy\\kata10.ipynb Cell 11'\u001b[0m in \u001b[0;36m<module>\u001b[1;34m\u001b[0m\n\u001b[0;32m      <a href='vscode-notebook-cell:/c%3A/Users/Alx33/OneDrive/Escritorio/jupy/kata10.ipynb#ch0000012?line=7'>8</a>\u001b[0m \u001b[39mtry\u001b[39;00m:\n\u001b[1;32m----> <a href='vscode-notebook-cell:/c%3A/Users/Alx33/OneDrive/Escritorio/jupy/kata10.ipynb#ch0000012?line=8'>9</a>\u001b[0m     \u001b[39mprint\u001b[39m(astronautas(\u001b[39m5\u001b[39;49m,\u001b[39m100\u001b[39;49m,\u001b[39m2\u001b[39;49m));\n\u001b[0;32m     <a href='vscode-notebook-cell:/c%3A/Users/Alx33/OneDrive/Escritorio/jupy/kata10.ipynb#ch0000012?line=9'>10</a>\u001b[0m \u001b[39mexcept\u001b[39;00m \u001b[39mRuntimeError\u001b[39;00m \u001b[39mas\u001b[39;00m err:\n",
      "\u001b[1;32mc:\\Users\\Alx33\\OneDrive\\Escritorio\\jupy\\kata10.ipynb Cell 11'\u001b[0m in \u001b[0;36mastronautas\u001b[1;34m(astro, agua, dias_restantes)\u001b[0m\n\u001b[0;32m      <a href='vscode-notebook-cell:/c%3A/Users/Alx33/OneDrive/Escritorio/jupy/kata10.ipynb#ch0000012?line=4'>5</a>\u001b[0m \u001b[39mif\u001b[39;00m(agua_restante\u001b[39m<\u001b[39m\u001b[39m0\u001b[39m):\n\u001b[1;32m----> <a href='vscode-notebook-cell:/c%3A/Users/Alx33/OneDrive/Escritorio/jupy/kata10.ipynb#ch0000012?line=5'>6</a>\u001b[0m     \u001b[39mraise\u001b[39;00m \u001b[39mRuntimeError\u001b[39;00m(\u001b[39mf\u001b[39m\u001b[39m\"\u001b[39m\u001b[39mno hay suficiente agua para \u001b[39m\u001b[39m{\u001b[39;00mastro\u001b[39m}\u001b[39;00m\u001b[39m despues de \u001b[39m\u001b[39m{\u001b[39;00mdias_restantes\u001b[39m}\u001b[39;00m\u001b[39m dias\u001b[39m\u001b[39m\"\u001b[39m);\n\u001b[0;32m      <a href='vscode-notebook-cell:/c%3A/Users/Alx33/OneDrive/Escritorio/jupy/kata10.ipynb#ch0000012?line=6'>7</a>\u001b[0m \u001b[39mreturn\u001b[39;00m \u001b[39mf\u001b[39m\u001b[39m\"\u001b[39m\u001b[39mAgua total restante \u001b[39m\u001b[39m{\u001b[39;00magua_restante\u001b[39m}\u001b[39;00m\u001b[39m, por dia es \u001b[39m\u001b[39m{\u001b[39;00muso_diario\u001b[39m}\u001b[39;00m\u001b[39m litros\u001b[39m\u001b[39m\"\u001b[39m\n",
      "\u001b[1;31mRuntimeError\u001b[0m: no hay suficiente agua para 5 despues de 2 dias",
      "\nDuring handling of the above exception, another exception occurred:\n",
      "\u001b[1;31mNameError\u001b[0m                                 Traceback (most recent call last)",
      "\u001b[1;32mc:\\Users\\Alx33\\OneDrive\\Escritorio\\jupy\\kata10.ipynb Cell 11'\u001b[0m in \u001b[0;36m<module>\u001b[1;34m\u001b[0m\n\u001b[0;32m      <a href='vscode-notebook-cell:/c%3A/Users/Alx33/OneDrive/Escritorio/jupy/kata10.ipynb#ch0000012?line=8'>9</a>\u001b[0m     \u001b[39mprint\u001b[39m(astronautas(\u001b[39m5\u001b[39m,\u001b[39m100\u001b[39m,\u001b[39m2\u001b[39m));\n\u001b[0;32m     <a href='vscode-notebook-cell:/c%3A/Users/Alx33/OneDrive/Escritorio/jupy/kata10.ipynb#ch0000012?line=9'>10</a>\u001b[0m \u001b[39mexcept\u001b[39;00m \u001b[39mRuntimeError\u001b[39;00m \u001b[39mas\u001b[39;00m err:\n\u001b[1;32m---> <a href='vscode-notebook-cell:/c%3A/Users/Alx33/OneDrive/Escritorio/jupy/kata10.ipynb#ch0000012?line=10'>11</a>\u001b[0m     alerta_a_la_tripulacion(err)\n",
      "\u001b[1;31mNameError\u001b[0m: name 'alerta_a_la_tripulacion' is not defined"
     ]
    }
   ],
   "source": [
    "def astronautas(astro,agua,dias_restantes):\n",
    "    uso_diario=astro*11;\n",
    "    total_usado=uso_diario*dias_restantes;\n",
    "    agua_restante=agua-total_usado\n",
    "    if(agua_restante<0):\n",
    "        raise RuntimeError(f\"no hay suficiente agua para {astro} despues de {dias_restantes} dias\");\n",
    "    return f\"Agua total restante {agua_restante}, por dia es {uso_diario} litros\";\n",
    "try:\n",
    "    print(astronautas(5,100,2));\n",
    "except RuntimeError as err:\n",
    "    alerta_a_la_tripulacion(err);\n",
    "\n"
   ]
  },
  {
   "cell_type": "code",
   "execution_count": 31,
   "metadata": {},
   "outputs": [
    {
     "ename": "TypeError",
     "evalue": "todos los argumentos deben ser de tipo entero, pero se han recibido '3' ",
     "output_type": "error",
     "traceback": [
      "\u001b[1;31m---------------------------------------------------------------------------\u001b[0m",
      "\u001b[1;31mTypeError\u001b[0m                                 Traceback (most recent call last)",
      "\u001b[1;32mc:\\Users\\Alx33\\OneDrive\\Escritorio\\jupy\\kata10.ipynb Cell 12'\u001b[0m in \u001b[0;36mastronautas\u001b[1;34m(astro, agua, dias_restantes)\u001b[0m\n\u001b[0;32m      <a href='vscode-notebook-cell:/c%3A/Users/Alx33/OneDrive/Escritorio/jupy/kata10.ipynb#ch0000013?line=2'>3</a>\u001b[0m \u001b[39mtry\u001b[39;00m:\n\u001b[1;32m----> <a href='vscode-notebook-cell:/c%3A/Users/Alx33/OneDrive/Escritorio/jupy/kata10.ipynb#ch0000013?line=3'>4</a>\u001b[0m     argumento\u001b[39m/\u001b[39;49m\u001b[39m10\u001b[39;49m; \u001b[39m#si es un entero esto trabajara\u001b[39;00m\n\u001b[0;32m      <a href='vscode-notebook-cell:/c%3A/Users/Alx33/OneDrive/Escritorio/jupy/kata10.ipynb#ch0000013?line=4'>5</a>\u001b[0m \u001b[39mexcept\u001b[39;00m \u001b[39mTypeError\u001b[39;00m:\n",
      "\u001b[1;31mTypeError\u001b[0m: unsupported operand type(s) for /: 'str' and 'int'",
      "\nDuring handling of the above exception, another exception occurred:\n",
      "\u001b[1;31mTypeError\u001b[0m                                 Traceback (most recent call last)",
      "\u001b[1;32mc:\\Users\\Alx33\\OneDrive\\Escritorio\\jupy\\kata10.ipynb Cell 12'\u001b[0m in \u001b[0;36m<module>\u001b[1;34m\u001b[0m\n\u001b[0;32m     <a href='vscode-notebook-cell:/c%3A/Users/Alx33/OneDrive/Escritorio/jupy/kata10.ipynb#ch0000013?line=12'>13</a>\u001b[0m         \u001b[39mraise\u001b[39;00m \u001b[39mRuntimeError\u001b[39;00m(\u001b[39mf\u001b[39m\u001b[39m\"\u001b[39m\u001b[39mno hay suficiente agua para \u001b[39m\u001b[39m{\u001b[39;00mastro\u001b[39m}\u001b[39;00m\u001b[39m despues de \u001b[39m\u001b[39m{\u001b[39;00mdias_restantes\u001b[39m}\u001b[39;00m\u001b[39m dias\u001b[39m\u001b[39m\"\u001b[39m);\n\u001b[0;32m     <a href='vscode-notebook-cell:/c%3A/Users/Alx33/OneDrive/Escritorio/jupy/kata10.ipynb#ch0000013?line=13'>14</a>\u001b[0m     \u001b[39mreturn\u001b[39;00m \u001b[39mf\u001b[39m\u001b[39m\"\u001b[39m\u001b[39mAgua total restante \u001b[39m\u001b[39m{\u001b[39;00magua_restante\u001b[39m}\u001b[39;00m\u001b[39m, por dia es \u001b[39m\u001b[39m{\u001b[39;00muso_diario\u001b[39m}\u001b[39;00m\u001b[39m litros\u001b[39m\u001b[39m\"\u001b[39m;\n\u001b[1;32m---> <a href='vscode-notebook-cell:/c%3A/Users/Alx33/OneDrive/Escritorio/jupy/kata10.ipynb#ch0000013?line=14'>15</a>\u001b[0m astronautas(\u001b[39m\"\u001b[39;49m\u001b[39m3\u001b[39;49m\u001b[39m\"\u001b[39;49m, \u001b[39m\"\u001b[39;49m\u001b[39m200\u001b[39;49m\u001b[39m\"\u001b[39;49m, \u001b[39mNone\u001b[39;49;00m)\n",
      "\u001b[1;32mc:\\Users\\Alx33\\OneDrive\\Escritorio\\jupy\\kata10.ipynb Cell 12'\u001b[0m in \u001b[0;36mastronautas\u001b[1;34m(astro, agua, dias_restantes)\u001b[0m\n\u001b[0;32m      <a href='vscode-notebook-cell:/c%3A/Users/Alx33/OneDrive/Escritorio/jupy/kata10.ipynb#ch0000013?line=3'>4</a>\u001b[0m         argumento\u001b[39m/\u001b[39m\u001b[39m10\u001b[39m; \u001b[39m#si es un entero esto trabajara\u001b[39;00m\n\u001b[0;32m      <a href='vscode-notebook-cell:/c%3A/Users/Alx33/OneDrive/Escritorio/jupy/kata10.ipynb#ch0000013?line=4'>5</a>\u001b[0m     \u001b[39mexcept\u001b[39;00m \u001b[39mTypeError\u001b[39;00m:\n\u001b[1;32m----> <a href='vscode-notebook-cell:/c%3A/Users/Alx33/OneDrive/Escritorio/jupy/kata10.ipynb#ch0000013?line=5'>6</a>\u001b[0m         \u001b[39mraise\u001b[39;00m \u001b[39mTypeError\u001b[39;00m(\u001b[39mf\u001b[39m\u001b[39m\"\u001b[39m\u001b[39mtodos los argumentos deben ser de tipo entero, pero se han recibido \u001b[39m\u001b[39m'\u001b[39m\u001b[39m{\u001b[39;00margumento\u001b[39m}\u001b[39;00m\u001b[39m'\u001b[39m\u001b[39m \u001b[39m\u001b[39m\"\u001b[39m);\n\u001b[0;32m      <a href='vscode-notebook-cell:/c%3A/Users/Alx33/OneDrive/Escritorio/jupy/kata10.ipynb#ch0000013?line=7'>8</a>\u001b[0m uso_diario\u001b[39m=\u001b[39mastro\u001b[39m*\u001b[39m\u001b[39m11\u001b[39m;\n\u001b[0;32m      <a href='vscode-notebook-cell:/c%3A/Users/Alx33/OneDrive/Escritorio/jupy/kata10.ipynb#ch0000013?line=8'>9</a>\u001b[0m total_usado\u001b[39m=\u001b[39muso_diario\u001b[39m*\u001b[39mdias_restantes;\n",
      "\u001b[1;31mTypeError\u001b[0m: todos los argumentos deben ser de tipo entero, pero se han recibido '3' "
     ]
    }
   ],
   "source": [
    "def astronautas(astro,agua,dias_restantes):\n",
    "    for argumento in [astro,agua,dias_restantes]:\n",
    "        try:\n",
    "            argumento/10; #si es un entero esto trabajara\n",
    "        except TypeError:\n",
    "            raise TypeError(f\"todos los argumentos deben ser de tipo entero, pero se han recibido '{argumento}' \");\n",
    "\n",
    "    uso_diario=astro*11;\n",
    "    total_usado=uso_diario*dias_restantes;\n",
    "    agua_restante=agua-total_usado;\n",
    "\n",
    "    if(agua_restante<0):\n",
    "        raise RuntimeError(f\"no hay suficiente agua para {astro} despues de {dias_restantes} dias\");\n",
    "    return f\"Agua total restante {agua_restante}, por dia es {uso_diario} litros\";\n",
    "astronautas(\"3\", \"200\", None)"
   ]
  }
 ],
 "metadata": {
  "interpreter": {
   "hash": "59f8fe193a7bda3c9c4498006cca788d8d5a648fecb716327465ad87e581a474"
  },
  "kernelspec": {
   "display_name": "Python 3.10.0 64-bit",
   "language": "python",
   "name": "python3"
  },
  "language_info": {
   "codemirror_mode": {
    "name": "ipython",
    "version": 3
   },
   "file_extension": ".py",
   "mimetype": "text/x-python",
   "name": "python",
   "nbconvert_exporter": "python",
   "pygments_lexer": "ipython3",
   "version": "3.10.0"
  },
  "orig_nbformat": 4
 },
 "nbformat": 4,
 "nbformat_minor": 2
}
