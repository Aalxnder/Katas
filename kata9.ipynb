{
 "cells": [
  {
   "cell_type": "markdown",
   "metadata": {},
   "source": [
    "# Ejercicio: Uso de funciones en Python\n",
    "Los argumentos requeridos en las funciones se utilizan cuando las funciones necesitan que esos argumentos funcionen correctamente. En este ejercicio, construirás un informe de combustible que requiere información de varias ubicaciones de combustible en todo el cohete.\n",
    "Comienza por crear una función que necesite tres lecturas de combustible y devuelva un informe: Ahora que hemos definido la función de informes, vamos a comprobarlo. Para esta misión, los tanques no están llenos:\n",
    "Ahora actualiza la función de informes para llamando a la nueva función del promedio:"
   ]
  },
  {
   "cell_type": "code",
   "execution_count": 10,
   "metadata": {},
   "outputs": [
    {
     "name": "stdout",
     "output_type": "stream",
     "text": [
      "tanque 1: 20, tanque 2: 20, tanque 3: 20, combustible total: 20.0:\n",
      "reporte de la nave\n"
     ]
    }
   ],
   "source": [
    "def reporte(tanque1,tanque2,tanque3):\n",
    "    combustible_total=(tanque1+tanque2+tanque3)/3;\n",
    "    print(\"tanque 1: {}, tanque 2: {}, tanque 3: {}, combustible total: {}:\".format(tanque1,tanque2,tanque3,combustible_total));\n",
    "    return 'reporte de la nave';\n",
    "print(reporte(20,20,20));"
   ]
  },
  {
   "cell_type": "code",
   "execution_count": 8,
   "metadata": {},
   "outputs": [
    {
     "name": "stdout",
     "output_type": "stream",
     "text": [
      "54.666666666666664\n"
     ]
    }
   ],
   "source": [
    "def promedio(values):\n",
    "    total=sum(values);\n",
    "    numero_de_items=(len(values));\n",
    "    return total/numero_de_items;\n",
    "\n",
    "print(promedio([80,50,34]));\n",
    "\n",
    "\n"
   ]
  },
  {
   "cell_type": "markdown",
   "metadata": {},
   "source": [
    "# actualizar la funcion"
   ]
  },
  {
   "cell_type": "code",
   "execution_count": 15,
   "metadata": {},
   "outputs": [
    {
     "name": "stdout",
     "output_type": "stream",
     "text": [
      "promedio  20.0\n",
      "tanque 1: 20, tanque 2: 20, tanque 3: 20.\n",
      "reporte de la nave\n"
     ]
    }
   ],
   "source": [
    "def reporte(tanque1,tanque2,tanque3):\n",
    "    print(\"promedio \",promedio([tanque1,tanque2,tanque3]))\n",
    "    print(\"tanque 1: {}, tanque 2: {}, tanque 3: {}.\".format(tanque1,tanque2,tanque3))\n",
    "    return 'reporte de la nave';\n",
    "print(reporte(20,20,20));"
   ]
  },
  {
   "cell_type": "markdown",
   "metadata": {},
   "source": [
    "# Ejercicio 2: Trabajo con argumentos de palabra clave\n",
    "Ejercicio : Trabajar con argumentos de palabras clave en funciones\n",
    "En este ejercicio, construirás un informe de cohete que requiere varias piezas de información, como el tiempo hasta el destino, el combustible a la izquierda y el nombre del destino. Comienza por crear una función que creará un informe preciso de la misión:\n",
    " función es problemática porque no se puede adaptar para minutos adicionales o tanques adicionales de combustible. Hazlo más flexible permitiendo cualquier número de pasos basados en el tiempo y cualquier número de tanques. En lugar de usar *args y **kwargs, aprovecha el hecho de que puedes usar cualquier nombre que desees. Asegurate que la función sea más legible mediante el uso de nombres de variables que están asociados con las entradas, como *minutes y **fuel_reservoirs:"
   ]
  },
  {
   "cell_type": "code",
   "execution_count": 8,
   "metadata": {},
   "outputs": [
    {
     "name": "stdout",
     "output_type": "stream",
     "text": [
      "Tiempo de vuelo 65\n",
      "Destino Moon\n",
      "Combustible 500000\n",
      "\n",
      "datos recibidos del Chequeo General\n"
     ]
    }
   ],
   "source": [
    "def registro(prelanzamiento, tiempovuelo, destino, tanqueExterno, tanqueInterno):\n",
    "    \n",
    "    print(f'Tiempo de vuelo {prelanzamiento+tiempovuelo}\\nDestino {destino}\\nCombustible {tanqueExterno+tanqueInterno}\\n');\n",
    "    return 'datos recibidos del Chequeo General';\n",
    "print(registro(14, 51, \"Moon\", 200000, 300000));\n"
   ]
  },
  {
   "cell_type": "code",
   "execution_count": 16,
   "metadata": {},
   "outputs": [
    {
     "name": "stdout",
     "output_type": "stream",
     "text": [
      "Mision a: La luna\n",
      "Tiempo total de vuelo 78\n",
      "Combustible total 50000\n",
      "\n",
      "registros de mision\n"
     ]
    }
   ],
   "source": [
    "def registro(destino,*tiempo,**tanque):\n",
    "    print(f\"Mision a: {destino}\\nTiempo total de vuelo {sum(tiempo)}\\nCombustible total {sum(tanque.values())}\\n\");\n",
    "    return 'registros de mision';\n",
    "print(registro('La luna',14,51,13,externo=20000,interno=30000));"
   ]
  },
  {
   "cell_type": "code",
   "execution_count": 24,
   "metadata": {},
   "outputs": [
    {
     "name": "stdout",
     "output_type": "stream",
     "text": [
      "Mision a: La luna\n",
      "Tiempo total de vuelo 78\n",
      "Combustible total 50000\n",
      "externo tanque -->20000 quedan\n",
      "interno tanque -->30000 quedan\n",
      "\n"
     ]
    }
   ],
   "source": [
    "def registro(destino,*tiempo,**tanque):\n",
    "    reporteMain=f\"Mision a: {destino}\\nTiempo total de vuelo {sum(tiempo)}\\nCombustible total {sum(tanque.values())}\\n\";\n",
    "\n",
    "    for nombreTanque, galones in tanque.items():\n",
    "        reporteMain += f\"{nombreTanque} tanque -->{galones} quedan\\n\";\n",
    "    return reporteMain \n",
    "\n",
    "print(registro('La luna',14,51,13,externo=20000,interno=30000));\n",
    "\n"
   ]
  }
 ],
 "metadata": {
  "interpreter": {
   "hash": "59f8fe193a7bda3c9c4498006cca788d8d5a648fecb716327465ad87e581a474"
  },
  "kernelspec": {
   "display_name": "Python 3.10.0 64-bit",
   "language": "python",
   "name": "python3"
  },
  "language_info": {
   "codemirror_mode": {
    "name": "ipython",
    "version": 3
   },
   "file_extension": ".py",
   "mimetype": "text/x-python",
   "name": "python",
   "nbconvert_exporter": "python",
   "pygments_lexer": "ipython3",
   "version": "3.10.0"
  },
  "orig_nbformat": 4
 },
 "nbformat": 4,
 "nbformat_minor": 2
}
