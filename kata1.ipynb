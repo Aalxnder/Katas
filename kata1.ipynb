{
 "cells": [
  {
   "cell_type": "markdown",
   "metadata": {},
   "source": [
    "# mostrar la hora de hoy\n",
    "el codigo te mostrara la hora de el dia de hoy\n"
   ]
  },
  {
   "cell_type": "code",
   "execution_count": 1,
   "metadata": {},
   "outputs": [
    {
     "name": "stdout",
     "output_type": "stream",
     "text": [
      "El dia de hoy es: 2022-02-05\n"
     ]
    }
   ],
   "source": [
    "from datetime import date\n",
    "print(\"El dia de hoy es: \"+str(date.today()))"
   ]
  },
  {
   "cell_type": "markdown",
   "metadata": {},
   "source": [
    "# contruir un conertidor de unidades de parsecs a años luz\n",
    "el siguiente codigo te genera un conertidor de unidades entre parsecs y años luz"
   ]
  },
  {
   "cell_type": "code",
   "execution_count": 2,
   "metadata": {},
   "outputs": [
    {
     "name": "stdout",
     "output_type": "stream",
     "text": [
      "11 parsecs son:  35.882 de años luz\n"
     ]
    }
   ],
   "source": [
    "parsec=11;\n",
    "años_luz=0;\n",
    "años_luz=parsec*3.262\n",
    "print(str(parsec),\"parsecs son: \",str(años_luz),\"de años luz\")"
   ]
  }
 ],
 "metadata": {
  "interpreter": {
   "hash": "59f8fe193a7bda3c9c4498006cca788d8d5a648fecb716327465ad87e581a474"
  },
  "kernelspec": {
   "display_name": "Python 3.10.0 64-bit",
   "language": "python",
   "name": "python3"
  },
  "language_info": {
   "codemirror_mode": {
    "name": "ipython",
    "version": 3
   },
   "file_extension": ".py",
   "mimetype": "text/x-python",
   "name": "python",
   "nbconvert_exporter": "python",
   "pygments_lexer": "ipython3",
   "version": "3.10.0"
  },
  "orig_nbformat": 4
 },
 "nbformat": 4,
 "nbformat_minor": 2
}
