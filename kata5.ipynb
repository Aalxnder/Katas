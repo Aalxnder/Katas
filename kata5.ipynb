{
 "cells": [
  {
   "cell_type": "markdown",
   "metadata": {},
   "source": [
    "# Ejercicio1 - Utilizar operadores aritméticos\n",
    "Exploremos cómo podemos crear un programa que pueda calcular la distancia entre dos planetas. Comenzaremos usando dos distancias de planetas: Tierra (149.597.870 km) y Júpiter (778.547.200 km)."
   ]
  },
  {
   "cell_type": "code",
   "execution_count": 2,
   "metadata": {},
   "outputs": [
    {
     "name": "stdout",
     "output_type": "stream",
     "text": [
      "La distancia entre los dos planetas es: 628949330 kilometros que son 390577533.93 millas\n"
     ]
    }
   ],
   "source": [
    "tierra = 149597870;\n",
    "jupyter = 778547200;\n",
    "\n",
    "distancia = jupyter-tierra;\n",
    "millas=distancia*0.621;\n",
    "\n",
    "print(\"La distancia entre los dos planetas es: {} kilometros que son {} millas\".format(distancia, millas));\n",
    "\n"
   ]
  },
  {
   "cell_type": "markdown",
   "metadata": {},
   "source": [
    "# Ejercicio 2: convierte cadenas en números y usa valores absolutos\n",
    "Crear una aplicación para trabajar con números y entrada de usuario Para crear nuestra aplicación, queremos leer la distancia del sol para dos planetas, y luego mostrar la distancia entre los planetas. Haremos esto usando input para leer los valores, int para convertir a entero y luego abs para convertir el resultado en su valor absoluto."
   ]
  },
  {
   "cell_type": "code",
   "execution_count": 5,
   "metadata": {},
   "outputs": [
    {
     "name": "stdout",
     "output_type": "stream",
     "text": [
      "48624300.0\n"
     ]
    }
   ],
   "source": [
    "planeta= int(input(\"escribe la distancia del primer planeta\"));\n",
    "planeta2=int(input(\"escribe la distancia del segundo planeta\"));\n",
    "\n",
    "distancia = planeta-planeta2;\n",
    "millas=distancia*0.621;\n",
    "\n",
    "print(abs(millas));"
   ]
  }
 ],
 "metadata": {
  "interpreter": {
   "hash": "59f8fe193a7bda3c9c4498006cca788d8d5a648fecb716327465ad87e581a474"
  },
  "kernelspec": {
   "display_name": "Python 3.10.0 64-bit",
   "language": "python",
   "name": "python3"
  },
  "language_info": {
   "codemirror_mode": {
    "name": "ipython",
    "version": 3
   },
   "file_extension": ".py",
   "mimetype": "text/x-python",
   "name": "python",
   "nbconvert_exporter": "python",
   "pygments_lexer": "ipython3",
   "version": "3.10.0"
  },
  "orig_nbformat": 4
 },
 "nbformat": 4,
 "nbformat_minor": 2
}
